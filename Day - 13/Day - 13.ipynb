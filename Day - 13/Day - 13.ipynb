{
 "cells": [
  {
   "cell_type": "markdown",
   "metadata": {},
   "source": [
    "# Question 1"
   ]
  },
  {
   "cell_type": "markdown",
   "metadata": {},
   "source": [
    "# Remove the hardcoded part from the code with the help of configparser Use the file config file exc.ini"
   ]
  },
  {
   "cell_type": "code",
   "execution_count": 1,
   "metadata": {},
   "outputs": [],
   "source": [
    "from configparser import ConfigParser\n",
    "import os"
   ]
  },
  {
   "cell_type": "code",
   "execution_count": 2,
   "metadata": {},
   "outputs": [
    {
     "name": "stdout",
     "output_type": "stream",
     "text": [
      "Capture.PNG\n",
      "Capture\n",
      "Capture.JPG\n"
     ]
    }
   ],
   "source": [
    "from configparser import ConfigParser\n",
    "import os\n",
    "config = ConfigParser()\n",
    "config.read('C:\\\\Users\\\\Raju\\\\Learnings\\\\Advance Python & Django\\\\Assignments\\\\Assignment Submission\\\\Day - 13\\\\new.ini')\n",
    "os.chdir('C:\\\\Users\\\\Raju\\\\Learnings\\\\Advance Python & Django\\\\Assignments\\\\Assignment Submission\\\\Day - 13')\n",
    "def func1():\n",
    "    return config.get('EXT','current_path')\n",
    "for file in os.listdir(func1()):\n",
    "    if file.endswith(config.get('EXT','from')):\n",
    "        print(file)\n",
    "        name1 = file.rsplit('.',1)[0]\n",
    "        print(name1)\n",
    "        new_name = name1 + config.get('EXT','to')\n",
    "        print(new_name)\n",
    "        os.rename(file,new_name)"
   ]
  },
  {
   "cell_type": "code",
   "execution_count": null,
   "metadata": {},
   "outputs": [],
   "source": []
  }
 ],
 "metadata": {
  "kernelspec": {
   "display_name": "Python 3",
   "language": "python",
   "name": "python3"
  },
  "language_info": {
   "codemirror_mode": {
    "name": "ipython",
    "version": 3
   },
   "file_extension": ".py",
   "mimetype": "text/x-python",
   "name": "python",
   "nbconvert_exporter": "python",
   "pygments_lexer": "ipython3",
   "version": "3.7.6"
  }
 },
 "nbformat": 4,
 "nbformat_minor": 4
}
