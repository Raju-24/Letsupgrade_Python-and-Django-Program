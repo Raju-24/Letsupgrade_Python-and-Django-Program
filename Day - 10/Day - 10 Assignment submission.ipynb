{
 "cells": [
  {
   "cell_type": "markdown",
   "metadata": {},
   "source": [
    "# Question 1:\n",
    "Convert 15-08-2020 15:20:20 into epoch time"
   ]
  },
  {
   "cell_type": "code",
   "execution_count": 8,
   "metadata": {},
   "outputs": [],
   "source": [
    "import time"
   ]
  },
  {
   "cell_type": "code",
   "execution_count": 14,
   "metadata": {},
   "outputs": [
    {
     "name": "stdout",
     "output_type": "stream",
     "text": [
      "epoch time of 15-08-2020 15:20:20 is  1597485020.0\n"
     ]
    }
   ],
   "source": [
    "hr_time='15-08-2020 15:20:20'\n",
    "def hrf_epoch(t1):\n",
    "    t2 = time.strptime(t1,\"%d-%m-%Y %H:%M:%S\")\n",
    "    t3 = time.mktime(t2)\n",
    "    return t3\n",
    "print('epoch time of 15-08-2020 15:20:20 is ',hrf_epoch(hr_time))"
   ]
  },
  {
   "cell_type": "code",
   "execution_count": null,
   "metadata": {},
   "outputs": [],
   "source": []
  }
 ],
 "metadata": {
  "kernelspec": {
   "display_name": "Python 3",
   "language": "python",
   "name": "python3"
  },
  "language_info": {
   "codemirror_mode": {
    "name": "ipython",
    "version": 3
   },
   "file_extension": ".py",
   "mimetype": "text/x-python",
   "name": "python",
   "nbconvert_exporter": "python",
   "pygments_lexer": "ipython3",
   "version": "3.7.6"
  }
 },
 "nbformat": 4,
 "nbformat_minor": 4
}
