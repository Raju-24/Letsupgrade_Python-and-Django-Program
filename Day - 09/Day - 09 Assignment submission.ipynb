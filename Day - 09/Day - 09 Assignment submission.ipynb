{
 "cells": [
  {
   "cell_type": "markdown",
   "metadata": {},
   "source": [
    "# Question 1:"
   ]
  },
  {
   "cell_type": "raw",
   "metadata": {},
   "source": [
    "Create a program to generate a password\n",
    "length 12\n",
    "6 random == \"A-Z a-z\"\n",
    "4 --> digits\n",
    "2 -- > special characters\n",
    "Expected Output:\n",
    "$ji12kt56yU#\n",
    "Not acceptable output:\n",
    "whiter1565#$\n",
    "Note: Output should be a mix of all the things mentioned above"
   ]
  },
  {
   "cell_type": "code",
   "execution_count": 3,
   "metadata": {},
   "outputs": [
    {
     "name": "stdout",
     "output_type": "stream",
     "text": [
      "Enter New Password: $ji12kt5FyU#\n",
      "Password should contain 2 digit\n",
      "Password can hold max 2 consicutive alphabets\n"
     ]
    }
   ],
   "source": [
    "import re\n",
    "setpassword = input('Enter New Password: ')\n",
    "special_char = '[~!@#$%^&*()_+?><:\";|.]'\n",
    "digit = sum(d.isdigit() for d in setpassword)\n",
    "len_sp_char = re.findall(special_char,setpassword)\n",
    "if len(setpassword)!=12:\n",
    "    print('Password length should be 12 character')\n",
    "elif re.search('[0-9]',setpassword) == None or digit != 4:\n",
    "    print('Password should contain 2 digit')\n",
    "elif re.search('[a-z]',setpassword) == None :\n",
    "    print('Password should contain atleast 1 small letter')\n",
    "elif re.search('[A-Z]',setpassword) == None:\n",
    "    print('Password should contain atleast 1 capital letter')\n",
    "elif re.findall(special_char,setpassword) == None or len(len_sp_char) != 2:\n",
    "    print('Password should contain atleast 2 special character')\n",
    "else:\n",
    "    print('Password: ', setpassword)\n",
    "\n",
    "for j in range(len(setpassword)):\n",
    "    pw = setpassword[j:j+3]\n",
    "    if len(pw)<3:\n",
    "        break\n",
    "    elif pw.isalpha():\n",
    "        print('Password can hold max 2 consicutive alphabets')\n",
    "        break"
   ]
  },
  {
   "cell_type": "code",
   "execution_count": null,
   "metadata": {},
   "outputs": [],
   "source": []
  }
 ],
 "metadata": {
  "kernelspec": {
   "display_name": "Python 3",
   "language": "python",
   "name": "python3"
  },
  "language_info": {
   "codemirror_mode": {
    "name": "ipython",
    "version": 3
   },
   "file_extension": ".py",
   "mimetype": "text/x-python",
   "name": "python",
   "nbconvert_exporter": "python",
   "pygments_lexer": "ipython3",
   "version": "3.7.6"
  }
 },
 "nbformat": 4,
 "nbformat_minor": 4
}
