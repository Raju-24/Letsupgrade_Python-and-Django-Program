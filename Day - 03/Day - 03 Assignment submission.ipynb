{
 "cells": [
  {
   "cell_type": "markdown",
   "metadata": {},
   "source": [
    "# Question 1"
   ]
  },
  {
   "cell_type": "code",
   "execution_count": 9,
   "metadata": {},
   "outputs": [
    {
     "name": "stdout",
     "output_type": "stream",
     "text": [
      "Unsorted IP Address ['192.168.10.09', '192.168.10.4', '192.168.10.11', '192.168.10.35']\n",
      "Sorted IP Address ['192.168.10.4', '192.168.10.09', '192.168.10.11', '192.168.10.35']\n"
     ]
    }
   ],
   "source": [
    "list3 = [\"192.168.10.09\", \"192.168.10.4\", \"192.168.10.11\", \"192.168.10.35\"]\n",
    "print('Unsorted IP Address', list3)\n",
    "def IP_add(fun1):\n",
    "    i=fun1.split('.')\n",
    "    return int(i[3])\n",
    "list3.sort(key=IP_add)\n",
    "print('Sorted IP Address', list3)"
   ]
  },
  {
   "cell_type": "markdown",
   "metadata": {},
   "source": [
    "# Question 2"
   ]
  },
  {
   "cell_type": "code",
   "execution_count": 10,
   "metadata": {},
   "outputs": [
    {
     "name": "stdout",
     "output_type": "stream",
     "text": [
      "[1, 1, 1, 1, 1, 1, 2, 2, 2, 3, 3, 3, 21, 24, 45, 0, 0, 0, 0, 0, 0]\n"
     ]
    }
   ],
   "source": [
    "list1 = [1,2,3,0,2,3,0,1,24,0,1,3,1,0,1,21,0,1,2,0,45]\n",
    "list2 = []\n",
    "list3 = []\n",
    "for i in list1:\n",
    "    if i == 0:\n",
    "        list2.append(i)\n",
    "    else:\n",
    "        list3.append(i)\n",
    "list3.sort()\n",
    "list3.extend(list2)\n",
    "print(list3)"
   ]
  },
  {
   "cell_type": "code",
   "execution_count": null,
   "metadata": {},
   "outputs": [],
   "source": []
  }
 ],
 "metadata": {
  "kernelspec": {
   "display_name": "Python 3",
   "language": "python",
   "name": "python3"
  },
  "language_info": {
   "codemirror_mode": {
    "name": "ipython",
    "version": 3
   },
   "file_extension": ".py",
   "mimetype": "text/x-python",
   "name": "python",
   "nbconvert_exporter": "python",
   "pygments_lexer": "ipython3",
   "version": "3.7.6"
  }
 },
 "nbformat": 4,
 "nbformat_minor": 4
}
